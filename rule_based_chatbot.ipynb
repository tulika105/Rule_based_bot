{
 "cells": [
  {
   "cell_type": "markdown",
   "id": "98ac9a36-a936-46fb-a246-45c8902bcf64",
   "metadata": {},
   "source": [
    "# Rule based chatbot"
   ]
  },
  {
   "cell_type": "code",
   "execution_count": 9,
   "id": "21f581a8-c51e-4709-ac68-f9112c503003",
   "metadata": {},
   "outputs": [],
   "source": [
    "import tkinter as tk\n",
    "from tkinter import scrolledtext\n",
    "\n",
    "def chatbot_response(user_input):\n",
    "    user_input = user_input.lower()  # Convert input to lowercase for easier matching\n",
    "\n",
    "    # Define simple rules for responses\n",
    "    if 'hi' in user_input or 'hello' in user_input:\n",
    "        return \"Hello! How can I assist you today?\"\n",
    "    elif \"how are you\" in user_input:\n",
    "        return \"I'm just a program, but thanks for asking! How can I help you?\"\n",
    "    elif \"what is your name\" in user_input:\n",
    "        return \"I am a simple rule-based chatbot created to assist you.\"\n",
    "    elif \"data science\" in user_input:\n",
    "        return \"Data science is a field that uses scientific methods, processes, algorithms, and systems to extract knowledge and insights from structured and unstructured data.\"\n",
    "    elif 'deep learning' in user_input:\n",
    "        return \"Deep learning is a type of artificial intelligence (AI) that uses artificial neural networks to teach computers how to process data in a way that resembles the human brain.\"\n",
    "    elif \"machine learning\" in user_input:\n",
    "        return \"Machine learning is a subset of artificial intelligence that focuses on building systems that learn from data and improve their performance over time.\"\n",
    "    elif \"artificial intelligence\" in user_input:\n",
    "        return \"Artificial intelligence (AI) is the simulation of human intelligence processes by machines, especially computer systems.\"\n",
    "    elif \"python\" in user_input:\n",
    "        return \"Python is a popular programming language for data science due to its simplicity and the availability of powerful libraries like Pandas, NumPy, and Scikit-learn.\"\n",
    "    elif \"statistics\" in user_input:\n",
    "        return \"Statistics is a branch of mathematics dealing with data collection, analysis, interpretation, presentation, and organization.\"\n",
    "    elif \"exit\" in user_input or \"quit\" in user_input or 'stop' in user_input:\n",
    "        return \"Goodbye! Have a great day!\"\n",
    "    else:\n",
    "        return \"I'm sorry, I don't understand that. Can you ask something else about data science?\"\n",
    "\n",
    "# Function to handle user input\n",
    "def send_message():\n",
    "    user_input = entry.get()  # Get user input from the entry box\n",
    "    if user_input:\n",
    "        chat_area.config(state=tk.NORMAL)  # Enable the chat area for editing\n",
    "        chat_area.insert(tk.END, \"You: \" + user_input + \"\\n\")  # Display user message\n",
    "        \n",
    "        # Get the bot's response\n",
    "        bot_response = chatbot_response(user_input)\n",
    "        chat_area.insert(tk.END, \"Bot: \" + bot_response + \"\\n\")  # Display bot response\n",
    "        \n",
    "        chat_area.config(state=tk.DISABLED)  # Disable the chat area for editing\n",
    "        chat_area.yview(tk.END)  # Scroll to the end of the chat area\n",
    "        entry.delete(0, tk.END)  # Clear the entry box\n",
    "\n",
    "# Create the main window\n",
    "root = tk.Tk()\n",
    "root.title(\"Simple Rule-Based Chatbot\")\n",
    "\n",
    "# Create a scrolled text area for chat history\n",
    "chat_area = scrolledtext.ScrolledText(root, wrap=tk.WORD, state=tk.DISABLED)\n",
    "chat_area.pack(padx=10, pady=10, fill=tk.BOTH, expand=True)\n",
    "\n",
    "# Create an entry box for user input\n",
    "entry = tk.Entry(root, width=80)\n",
    "entry.pack(padx=10, pady=10, side=tk.LEFT, fill=tk.X, expand=True)\n",
    "\n",
    "# Create a send button\n",
    "send_button = tk.Button(root, text=\"Send\", command=send_message)\n",
    "send_button.pack(padx=10, pady=10, side=tk.RIGHT)\n",
    "\n",
    "root.mainloop()"
   ]
  }
 ],
 "metadata": {
  "kernelspec": {
   "display_name": "Python 3 (ipykernel)",
   "language": "python",
   "name": "python3"
  },
  "language_info": {
   "codemirror_mode": {
    "name": "ipython",
    "version": 3
   },
   "file_extension": ".py",
   "mimetype": "text/x-python",
   "name": "python",
   "nbconvert_exporter": "python",
   "pygments_lexer": "ipython3",
   "version": "3.11.4"
  }
 },
 "nbformat": 4,
 "nbformat_minor": 5
}
